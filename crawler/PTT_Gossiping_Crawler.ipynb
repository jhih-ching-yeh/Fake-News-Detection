{
  "nbformat": 4,
  "nbformat_minor": 0,
  "metadata": {
    "colab": {
      "name": "PTT Gossiping Crawler.ipynb",
      "provenance": [],
      "collapsed_sections": []
    },
    "kernelspec": {
      "name": "python3",
      "display_name": "Python 3"
    },
    "language_info": {
      "name": "python"
    }
  },
  "cells": [
    {
      "cell_type": "code",
      "metadata": {
        "id": "XdYADo9TNIwT"
      },
      "source": [
        "import datetime\n",
        "import numpy as np\n",
        "import pandas as pd\n",
        "import requests\n",
        "import random\n",
        "import time\n",
        "import re\n",
        "import jieba as jb\n",
        "from bs4 import BeautifulSoup"
      ],
      "execution_count": 1,
      "outputs": []
    },
    {
      "cell_type": "code",
      "metadata": {
        "colab": {
          "base_uri": "https://localhost:8080/"
        },
        "id": "INubJSpjNOWh",
        "outputId": "95b878d6-554e-4030-9cf1-965a92b1b2ff"
      },
      "source": [
        "# *** 選擇從哪天開始爬取文章 ***\n",
        "while True: \n",
        "    try:\n",
        "        print(\"請問要從哪一天開始抓取保險版一週的文章?\")\n",
        "        year = int(input('年(Year):'))\n",
        "        month = int(input('月(month):'))\n",
        "        day = int(input('日(day):'))\n",
        "        datetime_date = datetime.date(year, month, day)\n",
        "        break\n",
        "    except:\n",
        "        print(\"請輸入正確的年份、月份、日期\")\n",
        "\n",
        "# 為期一週\n",
        "date_range = []\n",
        "for i in range(7):\n",
        "    # today = time.strftime(\"%m/%d\").lstrip('0')  # 今天日期, 去掉開頭的 '0' 以符合 PTT 網站格式\n",
        "    date = (datetime_date - datetime.timedelta(days=i)).strftime('%m/%d').lstrip('0')\n",
        "    date_range.append(date)\n",
        "    \n",
        "print(\"您選擇的日期範圍為\",date_range)"
      ],
      "execution_count": 2,
      "outputs": [
        {
          "output_type": "stream",
          "name": "stdout",
          "text": [
            "請問要從哪一天開始抓取保險版一週的文章?\n",
            "年(Year):2021\n",
            "月(month):12\n",
            "日(day):15\n",
            "您選擇的日期範圍為 ['12/15', '12/14', '12/13', '12/12', '12/11', '12/10', '12/09']\n"
          ]
        }
      ]
    },
    {
      "cell_type": "code",
      "metadata": {
        "id": "HjXJbDXiNRcz"
      },
      "source": [
        "def get_ppt_page(url):\n",
        "    # 紀錄cookies 是否年滿18歲\n",
        "    resp = requests.get(\n",
        "        url=url,\n",
        "        cookies={'over18': '1'}  \n",
        "    )\n",
        "    if resp.status_code != 200:\n",
        "        print('Invalid url:', resp.url)\n",
        "        return None\n",
        "    else:\n",
        "        return resp.text"
      ],
      "execution_count": 3,
      "outputs": []
    },
    {
      "cell_type": "code",
      "metadata": {
        "id": "8IMLPSmNNXFQ"
      },
      "source": [
        "def get_pageinfo(resdata,domain_url):\n",
        "    soup = BeautifulSoup(resdata, 'html5lib')\n",
        "    # 取得上一頁按鈕\n",
        "    paging_div = soup.find('div', 'btn-group btn-group-paging')\n",
        "    prev_url = paging_div.find_all('a')[1]['href']\n",
        "    \n",
        "    # 儲存取得的文章資料<div class=\"r-ent\"></div>\n",
        "    pptdata = []  \n",
        "    date_divs = soup.find_all('div', 'r-ent')\n",
        "    \n",
        "    num = 0\n",
        "    whether_prev = True\n",
        "    for k in date_divs:\n",
        "        # 判斷文章是否在一週內發佈\n",
        "        week_date = k.find('div', 'date').text.strip() in date_range\n",
        "        \n",
        "        # 代表最早的日期，就不符合條件，所以不用下一頁\n",
        "        if num == 0:\n",
        "            if week_date == False:\n",
        "                whether_prev = False\n",
        "        # 一周內發布       \n",
        "        if week_date:\n",
        "            # 發布日期\n",
        "            post_date = k.find('div', 'date').text.strip()\n",
        "            #print(\"發布日期\",post_date)\n",
        "            \n",
        "            # 推文數\n",
        "            push_count = k.find('div', 'nrec').text\n",
        "            push_num = 0\n",
        "            if push_count:\n",
        "                try:\n",
        "                    push_num = int(push_count)  \n",
        "                except ValueError:\n",
        "                    # 若轉換失敗，可能是'爆'或 'X1', 'X2'\n",
        "                    if push_count == '爆':\n",
        "                        push_num = 100\n",
        "                    elif push_count.startswith('X'):\n",
        "                        push_num = -100\n",
        "                    else:\n",
        "                        push_num = 0\n",
        "            #print(\"推文數\",push_num)\n",
        "            \n",
        "            # 有超連結，代表文章存在\n",
        "            if k.find('a'): \n",
        "                # 文章標題\n",
        "                title = k.find('a').text\n",
        "                #print(\"標題\",title)\n",
        "                # 文章連結\n",
        "                href = k.find('a')['href']\n",
        "                #print(\"標題連結\",domain_url+href)\n",
        "                \n",
        "                pptdata.append({\n",
        "                    'date': post_date,\n",
        "                    'push_num': push_num,\n",
        "                    'title': title,\n",
        "                    'href': domain_url+href\n",
        "                })\n",
        "        \n",
        "        #每做完一次，num+1\n",
        "        num = num + 1 \n",
        "    df = pd.DataFrame(pptdata, columns=['date','push_num', 'title', 'href'])\n",
        "    \n",
        "    return prev_url,df,whether_prev"
      ],
      "execution_count": 4,
      "outputs": []
    },
    {
      "cell_type": "code",
      "metadata": {
        "id": "U8PbVe6JNbH_"
      },
      "source": [
        "if __name__ == '__main__':\n",
        "    # *** 選擇保險版 ***\n",
        "    domain_url = 'https://www.ptt.cc'\n",
        "    Gossiping = '/bbs/Gossiping/index.html'\n",
        "    # 第一頁\n",
        "    web_url = domain_url + Gossiping\n",
        "    #print(web_url)\n",
        "    ppt_page = get_ppt_page(web_url)\n",
        "    prev_href,df,whether_prev = get_pageinfo(ppt_page,domain_url) \n",
        "    \n",
        "    # 往前一頁\n",
        "    while whether_prev:\n",
        "        web_url = domain_url+prev_href\n",
        "        #print(web_url)\n",
        "        ppt_page = get_ppt_page(web_url)\n",
        "        prev_href,df_next,whether_prev = get_pageinfo(ppt_page,domain_url) \n",
        "        df = pd.concat([df,df_next])\n",
        "   \n",
        "    df.index = df['date']\n",
        "    df = df.sort_index(ascending=False)\n",
        "    df = df.reset_index(drop=True)"
      ],
      "execution_count": 5,
      "outputs": []
    },
    {
      "cell_type": "code",
      "metadata": {
        "id": "TXTG2EsgNdqL",
        "colab": {
          "base_uri": "https://localhost:8080/",
          "height": 175
        },
        "outputId": "d9888ec0-c8ec-4af5-d2d2-d801fc702b41"
      },
      "source": [
        "df"
      ],
      "execution_count": 6,
      "outputs": [
        {
          "output_type": "execute_result",
          "data": {
            "text/html": [
              "<div>\n",
              "<style scoped>\n",
              "    .dataframe tbody tr th:only-of-type {\n",
              "        vertical-align: middle;\n",
              "    }\n",
              "\n",
              "    .dataframe tbody tr th {\n",
              "        vertical-align: top;\n",
              "    }\n",
              "\n",
              "    .dataframe thead th {\n",
              "        text-align: right;\n",
              "    }\n",
              "</style>\n",
              "<table border=\"1\" class=\"dataframe\">\n",
              "  <thead>\n",
              "    <tr style=\"text-align: right;\">\n",
              "      <th></th>\n",
              "      <th>date</th>\n",
              "      <th>push_num</th>\n",
              "      <th>title</th>\n",
              "      <th>href</th>\n",
              "    </tr>\n",
              "  </thead>\n",
              "  <tbody>\n",
              "    <tr>\n",
              "      <th>0</th>\n",
              "      <td>12/15</td>\n",
              "      <td>12</td>\n",
              "      <td>[協尋] 12/13 高雄楠陽高架橋下機車專用道 北上</td>\n",
              "      <td>https://www.ptt.cc/bbs/Gossiping/M.1639509137....</td>\n",
              "    </tr>\n",
              "    <tr>\n",
              "      <th>1</th>\n",
              "      <td>12/15</td>\n",
              "      <td>-100</td>\n",
              "      <td>[公告] 禁止發電影爆雷文至12/19 23:59:59止</td>\n",
              "      <td>https://www.ptt.cc/bbs/Gossiping/M.1639530614....</td>\n",
              "    </tr>\n",
              "    <tr>\n",
              "      <th>2</th>\n",
              "      <td>12/09</td>\n",
              "      <td>20</td>\n",
              "      <td>[協尋] 求行車記錄器宜蘭縣冬山路12/3油罐車禍</td>\n",
              "      <td>https://www.ptt.cc/bbs/Gossiping/M.1639035420....</td>\n",
              "    </tr>\n",
              "    <tr>\n",
              "      <th>3</th>\n",
              "      <td>12/09</td>\n",
              "      <td>13</td>\n",
              "      <td>[協尋] 求行車記錄器新北市汐止弘道街車禍</td>\n",
              "      <td>https://www.ptt.cc/bbs/Gossiping/M.1638983770....</td>\n",
              "    </tr>\n",
              "  </tbody>\n",
              "</table>\n",
              "</div>"
            ],
            "text/plain": [
              "    date  ...                                               href\n",
              "0  12/15  ...  https://www.ptt.cc/bbs/Gossiping/M.1639509137....\n",
              "1  12/15  ...  https://www.ptt.cc/bbs/Gossiping/M.1639530614....\n",
              "2  12/09  ...  https://www.ptt.cc/bbs/Gossiping/M.1639035420....\n",
              "3  12/09  ...  https://www.ptt.cc/bbs/Gossiping/M.1638983770....\n",
              "\n",
              "[4 rows x 4 columns]"
            ]
          },
          "metadata": {},
          "execution_count": 6
        }
      ]
    },
    {
      "cell_type": "code",
      "source": [
        ""
      ],
      "metadata": {
        "id": "d45p_6MWS5wq"
      },
      "execution_count": 6,
      "outputs": []
    }
  ]
}